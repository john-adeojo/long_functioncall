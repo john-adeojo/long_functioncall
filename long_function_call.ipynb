{
 "cells": [
  {
   "cell_type": "code",
   "execution_count": 1,
   "id": "c5f32bcf-dfdb-496a-80d8-10a090bdc77f",
   "metadata": {},
   "outputs": [],
   "source": [
    "import os \n",
    "import yaml\n",
    "def read_config(path):\n",
    "    \"\"\"\n",
    "    Reads API key from a configuration file.\n",
    "\n",
    "    This function opens a configuration file named \"apikeys.yml\", reads the API key for OpenAI\n",
    "\n",
    "    Returns:\n",
    "    api_key (str): The API key for the Amadeus Flights API.\n",
    "    \"\"\"\n",
    "    \n",
    "    # Get the directory of the current script\n",
    "    script_dir = path\n",
    "\n",
    "    # Construct the full path to the configuration file\n",
    "    file_path = os.path.join(script_dir, \"apikeys.yml\")\n",
    "\n",
    "    with open(file_path, 'r') as stream:\n",
    "        configs = yaml.safe_load(stream)\n",
    "        API_KEY = configs['openai']['api_key']\n",
    "            \n",
    "    return API_KEY\n",
    "path = r\"C:\\Users\\johna\\OneDrive\\Documents\\api_keys\"  # Change to the location of your apikeys.yml\n",
    "API_KEY = read_config(path)"
   ]
  },
  {
   "cell_type": "code",
   "execution_count": 2,
   "id": "864bf3ba-14a0-4079-b4dc-2795a14afe22",
   "metadata": {},
   "outputs": [
    {
     "name": "stderr",
     "output_type": "stream",
     "text": [
      "C:\\Users\\johna\\anaconda3\\envs\\longfunctioncall_env\\lib\\site-packages\\tqdm\\auto.py:21: TqdmWarning: IProgress not found. Please update jupyter and ipywidgets. See https://ipywidgets.readthedocs.io/en/stable/user_install.html\n",
      "  from .autonotebook import tqdm as notebook_tqdm\n"
     ]
    }
   ],
   "source": [
    "from haystack.nodes import PreProcessor\n",
    "from haystack.utils import convert_files_to_docs\n",
    "from haystack.document_stores import FAISSDocumentStore\n",
    "from sqlalchemy import create_engine\n",
    "\n",
    "# pre-process docs \n",
    "def preprocess_docs(doc_dir):\n",
    "    all_docs = convert_files_to_docs(dir_path=doc_dir)\n",
    "    preprocessor = PreProcessor(\n",
    "        clean_empty_lines=True,\n",
    "        clean_whitespace=True,\n",
    "        clean_header_footer=False,\n",
    "        split_by=\"word\",\n",
    "        split_respect_sentence_boundary=True,\n",
    "        split_overlap=30, \n",
    "        split_length=100\n",
    "    )\n",
    "    docs = preprocessor.process(all_docs)\n",
    "    print(f\"n_files_input: {len(all_docs)}\\nn_docs_output: {len(docs)}\")\n",
    "    return docs\n",
    "\n",
    "\n",
    "# create FAISS\n",
    "def vector_stores(docs):\n",
    "    engine = create_engine('sqlite:///C:/Users/johna/anaconda3/envs/longfunctioncall_env/long_functioncall/database/database.db')  # change to your local directory\n",
    "    try:\n",
    "        # Attempt to drop the table\n",
    "        engine.execute(\"DROP TABLE document\")\n",
    "    except Exception as e:\n",
    "        # Catch any exceptions, likely due to the table not existing\n",
    "        print(f\"Exception occurred while trying to drop the table: {e}\")\n",
    "    \n",
    "    document_store = FAISSDocumentStore(sql_url='sqlite:///C:/Users/johna/anaconda3/envs/longfunctioncall_env/long_functioncall/database/database.db', faiss_index_factory_str=\"Flat\", embedding_dim=768) # change to your local directory\n",
    "    document_store.write_documents(docs)\n",
    "    \n",
    "    return document_store"
   ]
  },
  {
   "cell_type": "code",
   "execution_count": 3,
   "id": "35e4ccb6-cdc5-46ff-9d7e-bb5b1be244d4",
   "metadata": {},
   "outputs": [
    {
     "name": "stderr",
     "output_type": "stream",
     "text": [
      "Preprocessing:   0%|                                                                           | 0/1 [00:00<?, ?docs/s]We found one or more sentences whose word count is higher than the split length.\n",
      "Preprocessing: 100%|███████████████████████████████████████████████████████████████████| 1/1 [00:00<00:00,  2.72docs/s]\n"
     ]
    },
    {
     "name": "stdout",
     "output_type": "stream",
     "text": [
      "n_files_input: 1\n",
      "n_docs_output: 1176\n"
     ]
    },
    {
     "name": "stderr",
     "output_type": "stream",
     "text": [
      "Writing Documents: 10000it [00:02, 3638.53it/s]                                                                        \n"
     ]
    }
   ],
   "source": [
    "doc_dir = r\"C:\\Users\\johna\\anaconda3\\envs\\longfunctioncall_env\\long_functioncall\\knowledge_base\"\n",
    "docs = preprocess_docs(doc_dir)\n",
    "document_store = vector_stores(docs)"
   ]
  },
  {
   "cell_type": "code",
   "execution_count": 22,
   "id": "e78c7ca7-3233-4bd4-a63f-442637fc4c7b",
   "metadata": {},
   "outputs": [],
   "source": [
    "import openai\n",
    "from haystack.nodes.base import BaseComponent\n",
    "from typing import List\n",
    "import json\n",
    "\n",
    "class OpenAIFunctionCall(BaseComponent):\n",
    "    outgoing_edges = 1\n",
    "\n",
    "    def run(self, documents: List[str]):\n",
    "        \n",
    "        # Try to extract the content and print the first few content strings\n",
    "        try:\n",
    "            document_content_list = [doc.content for doc in documents]\n",
    "            print(\"documents extracted\")\n",
    "            document_content = \" \".join(document_content_list)\n",
    "        except Exception as e:\n",
    "            print(\"Error extracting content:\", e)\n",
    "            return\n",
    "\n",
    "        print(\"DOCUMENTS!!\", document_content_list)\n",
    "        functions = [\n",
    "            {\n",
    "                \"name\": \"update_dataframe\",\n",
    "                \"description\": \"write the fund details to a dataframe\",\n",
    "                \"parameters\": {\n",
    "                    \"type\": \"object\",\n",
    "                    \"properties\": {\n",
    "                        \"Product_reference_num\": {\n",
    "                            \"type\": \"string\",\n",
    "                            \"description\": \"The FCA product reference number which will be six or seven digits\"\n",
    "                        },\n",
    "                        \"investment_objective\": {\n",
    "                            \"type\": \"string\",\n",
    "                            \"description\": \"You should return the investment objective of the fund. This is likely to be something like this: The Fund aims to grow your investment over t – t + delta t years\"\n",
    "                        },\n",
    "                        \"investment_policy\": {\n",
    "                            \"type\": \"string\",\n",
    "                            \"description\": \"Return a summary of the fund's investment policy, no more than two sentences.\"\n",
    "                        },\n",
    "                        \"investment_strategy\": {\n",
    "                            \"type\": \"string\",\n",
    "                            \"description\": \"Return a summary of the fund's investment strategy, no more than two sentences.\"\n",
    "                        },\n",
    "                        \"ESG\": {\n",
    "                            \"type\": \"string\",\n",
    "                            \"description\": \"Return either True, or False. True if the fund is an ESG fund, False otherwise.\"\n",
    "                        },\n",
    "                        \"fund_name\": {\n",
    "                            \"type\": \"string\",\n",
    "                            \"description\": \"Return the name of the fund\"\n",
    "                        },\n",
    "                    },\n",
    "                },\n",
    "                \"required\": [\"Product_reference_num\", \n",
    "                             \"investment_objective\", \n",
    "                             \"investment_policy\",\n",
    "                             \"investment_strategy\",\n",
    "                             \"ESG\",\n",
    "                             \"fund_name\"]\n",
    "            }\n",
    "        ]\n",
    "        \n",
    "        openai.api_key = API_KEY\n",
    "        response = openai.ChatCompletion.create(\n",
    "            model=\"gpt-3.5-turbo-0613\",\n",
    "            messages=[{\"role\": \"system\", \"content\": document_content}],\n",
    "            functions=functions,\n",
    "            function_call=\"auto\",  # auto is default, but we'll be explicit\n",
    "        )\n",
    "\n",
    "        function_call_args = json.loads(response[\"choices\"][0][\"message\"][\"function_call\"][\"arguments\"])\n",
    "        \n",
    "        return function_call_args, \"output_1\"\n",
    "\n",
    "    def run_batch(self, documents: List[str]):\n",
    "        # You can either process multiple documents in a batch here or simply loop over the run method\n",
    "        results = []\n",
    "        for document_content in document_content:\n",
    "            result, _ = self.run(document_content)\n",
    "            results.append(result)\n",
    "        return results, \"output_1\""
   ]
  },
  {
   "cell_type": "code",
   "execution_count": 5,
   "id": "a5e9984e-0624-4398-a291-ee1a91436646",
   "metadata": {},
   "outputs": [
    {
     "name": "stderr",
     "output_type": "stream",
     "text": [
      "Downloading (…)ce_transformers.json: 100%|████████████████████████████████████████████| 116/116 [00:00<00:00, 11.6kB/s]\n",
      "C:\\Users\\johna\\anaconda3\\envs\\longfunctioncall_env\\lib\\site-packages\\torch\\_utils.py:776: UserWarning: TypedStorage is deprecated. It will be removed in the future and UntypedStorage will be the only storage class. This should only matter to you if you are using storages directly.  To access UntypedStorage directly, use tensor.untyped_storage() instead of tensor.storage()\n",
      "  return self.fget.__get__(instance, owner)()\n",
      "Updating Embedding:   0%|                                                                  | 0/1163 [00:00<?, ? docs/s]\n",
      "Batches:   0%|                                                                                  | 0/37 [00:00<?, ?it/s]\u001b[A\n",
      "Batches:   3%|██                                                                        | 1/37 [00:28<16:54, 28.18s/it]\u001b[A\n",
      "Batches:   5%|████                                                                      | 2/37 [00:36<09:40, 16.58s/it]\u001b[A\n",
      "Batches:   8%|██████                                                                    | 3/37 [00:44<07:13, 12.74s/it]\u001b[A\n",
      "Batches:  11%|████████                                                                  | 4/37 [00:51<05:46, 10.50s/it]\u001b[A\n",
      "Batches:  14%|██████████                                                                | 5/37 [00:58<04:54,  9.21s/it]\u001b[A\n",
      "Batches:  16%|████████████                                                              | 6/37 [01:05<04:23,  8.49s/it]\u001b[A\n",
      "Batches:  19%|██████████████                                                            | 7/37 [01:12<03:54,  7.81s/it]\u001b[A\n",
      "Batches:  22%|████████████████                                                          | 8/37 [01:18<03:31,  7.29s/it]\u001b[A\n",
      "Batches:  24%|██████████████████                                                        | 9/37 [01:24<03:08,  6.75s/it]\u001b[A\n",
      "Batches:  27%|███████████████████▋                                                     | 10/37 [01:29<02:48,  6.26s/it]\u001b[A\n",
      "Batches:  30%|█████████████████████▋                                                   | 11/37 [01:35<02:39,  6.14s/it]\u001b[A\n",
      "Batches:  32%|███████████████████████▋                                                 | 12/37 [01:40<02:25,  5.83s/it]\u001b[A\n",
      "Batches:  35%|█████████████████████████▋                                               | 13/37 [01:45<02:17,  5.75s/it]\u001b[A\n",
      "Batches:  38%|███████████████████████████▌                                             | 14/37 [01:51<02:15,  5.89s/it]\u001b[A\n",
      "Batches:  41%|█████████████████████████████▌                                           | 15/37 [01:57<02:04,  5.68s/it]\u001b[A\n",
      "Batches:  43%|███████████████████████████████▌                                         | 16/37 [02:02<01:55,  5.49s/it]\u001b[A\n",
      "Batches:  46%|█████████████████████████████████▌                                       | 17/37 [02:06<01:44,  5.24s/it]\u001b[A\n",
      "Batches:  49%|███████████████████████████████████▌                                     | 18/37 [02:12<01:41,  5.35s/it]\u001b[A\n",
      "Batches:  51%|█████████████████████████████████████▍                                   | 19/37 [02:17<01:36,  5.34s/it]\u001b[A\n",
      "Batches:  54%|███████████████████████████████████████▍                                 | 20/37 [02:22<01:25,  5.00s/it]\u001b[A\n",
      "Batches:  57%|█████████████████████████████████████████▍                               | 21/37 [02:26<01:17,  4.85s/it]\u001b[A\n",
      "Batches:  59%|███████████████████████████████████████████▍                             | 22/37 [02:31<01:14,  4.95s/it]\u001b[A\n",
      "Batches:  62%|█████████████████████████████████████████████▍                           | 23/37 [02:36<01:09,  4.97s/it]\u001b[A\n",
      "Batches:  65%|███████████████████████████████████████████████▎                         | 24/37 [02:40<01:01,  4.77s/it]\u001b[A\n",
      "Batches:  68%|█████████████████████████████████████████████████▎                       | 25/37 [02:44<00:53,  4.49s/it]\u001b[A\n",
      "Batches:  70%|███████████████████████████████████████████████████▎                     | 26/37 [02:49<00:49,  4.47s/it]\u001b[A\n",
      "Batches:  73%|█████████████████████████████████████████████████████▎                   | 27/37 [02:53<00:44,  4.40s/it]\u001b[A\n",
      "Batches:  76%|███████████████████████████████████████████████████████▏                 | 28/37 [02:57<00:39,  4.34s/it]\u001b[A\n",
      "Batches:  78%|█████████████████████████████████████████████████████████▏               | 29/37 [03:01<00:33,  4.17s/it]\u001b[A\n",
      "Batches:  81%|███████████████████████████████████████████████████████████▏             | 30/37 [03:05<00:27,  4.00s/it]\u001b[A\n",
      "Batches:  84%|█████████████████████████████████████████████████████████████▏           | 31/37 [03:10<00:25,  4.31s/it]\u001b[A\n",
      "Batches:  86%|███████████████████████████████████████████████████████████████▏         | 32/37 [03:13<00:20,  4.09s/it]\u001b[A\n",
      "Batches:  89%|█████████████████████████████████████████████████████████████████        | 33/37 [03:17<00:15,  3.91s/it]\u001b[A\n",
      "Batches:  92%|███████████████████████████████████████████████████████████████████      | 34/37 [03:20<00:11,  3.80s/it]\u001b[A\n",
      "Batches:  95%|█████████████████████████████████████████████████████████████████████    | 35/37 [03:24<00:07,  3.68s/it]\u001b[A\n",
      "Batches:  97%|███████████████████████████████████████████████████████████████████████  | 36/37 [03:27<00:03,  3.54s/it]\u001b[A\n",
      "Batches: 100%|█████████████████████████████████████████████████████████████████████████| 37/37 [03:28<00:00,  5.63s/it]\u001b[A\n",
      "Documents Processed: 10000 docs [03:28, 47.92 docs/s]                                                                  \n"
     ]
    }
   ],
   "source": [
    "# create our pipeline\n",
    "from haystack import Pipeline\n",
    "from haystack.nodes import EmbeddingRetriever\n",
    "\n",
    "retriever = EmbeddingRetriever(\n",
    "    document_store=document_store,\n",
    "    embedding_model=\"sentence-transformers/all-mpnet-base-v2\"\n",
    ")\n",
    "document_store.update_embeddings(retriever)"
   ]
  },
  {
   "cell_type": "code",
   "execution_count": 24,
   "id": "688beb35-3976-460f-a917-0758cef56d8c",
   "metadata": {},
   "outputs": [
    {
     "name": "stderr",
     "output_type": "stream",
     "text": [
      "Batches: 100%|███████████████████████████████████████████████████████████████████████████| 1/1 [00:00<00:00, 16.95it/s]\n"
     ]
    },
    {
     "name": "stdout",
     "output_type": "stream",
     "text": [
      "documents extracted\n",
      "DOCUMENTS!! ['On the introduction of any new Fund or Class, a revised Prospectus will be issued\\nincluding the relevant details of each such Fund or Class.\\n\\nInvestment and Borrowing Powers\\nThe eligible securities markets and eligible derivatives markets on which the Funds may\\ninvest are set out in Appendix 1. A detailed statement of the general investment and\\nborrowing restrictions and the extent to which the Company may use derivatives for the\\npurposes of investment and Efficient Portfolio Management techniques is set out in Section\\n3.\\n\\n', 'Information on the past performance of each Fund is contained in Appendix 3.\\n\\nFurther Funds\\nSubject to the approval of the FCA, the ACD may establish additional Funds from time to\\ntime. On the introduction of any new Fund or Class, a revised Prospectus will be issued\\nincluding the relevant details of each such Fund or Class.\\n\\nInvestment and Borrowing Powers\\nThe eligible securities markets and eligible derivatives markets on which the Funds may\\ninvest are set out in Appendix 1. ', 'With a view to enhancing returns and/or as part of the investment strategy, the Fund may\\nmake use of exchange traded and over-the-counter options, futures and other derivatives\\nfor investment or Efficient Portfolio Management (including hedging) purposes.\\n\\nInvestment Strategy\\n\\n“Insight” in the Fund name represents the fact that the Fund invests according to the\\nInvestment Advisor’s insight into and assessment of the investment universe.\\n\\nThe Fund’s investment objective will be pursued by investing primarily in a portfolio of\\nequity securities of established and emerging companies. The portfolio may at times be\\nconcentrated, and will generally hold less than 50 holdings.\\n\\n', 'Its principal activity is\\nproviding investment advisory and investment management services.\\nThe Investment Manager has been appointed under an investment management\\nagreement dated 24 June 2004, the (“Investment Management Agreement”). Subject to\\nan express delegation given by the Investment Manager, pursuant to the Investment\\nManagement Agreement, the Investment Manager may have discretion, on a day-to-day\\nbasis and subject to the overall control of the ACD, to purchase and sell securities (normally\\nacting as agent for the ACD) and otherwise to manage the assets of the Funds for the\\naccount and in the name of the Company, in relation to specific transactions. ', 'The Instrument of Incorporation permits grouping of Shares in the same Class and the\\nsame Fund for equalisation; grouping will be operated in respect of each annual accounting\\nperiod for which income is allocated. Shares purchased during each such period will carry\\nan entitlement to equalisation which is the amount arrived at on an average basis of the\\naccrued income per Share included in the price of the Shares purchased during the period.\\x0c\\n\\n', 'The Fund’s investment objective will be pursued by investing primarily in a portfolio of\\nequity securities of established and emerging companies. The portfolio may at times be\\nconcentrated, and will generally hold less than 50 holdings.\\n\\nThe investment process will emphasize a bottom-up stock selection process, seeking\\nattractive investments on an individual company basis. In selecting securities for\\ninvestment, the Investment Advisor typically invests in unique companies it believes have\\nsustainable competitive advantages with above average business visibility, the ability to\\ndeploy capital at high rates of return, strong balance sheets and an attractive risk/reward.\\n\\n', 'With a view to enhancing returns and/or as part of the investment strategy, the Fund may\\nmake use of exchange traded and over-the-counter options, futures and other derivatives\\nfor investment or efficient portfolio management (including hedging) purposes.\\n\\nInvestment Strategy\\n\\nThe Fund’s investment objective will be pursued by investing primarily in a portfolio of\\nequity securities of companies located or operating in developing markets.  The portfolio\\nis\\nconcentrated\\nand\\nwill\\ngenerally\\nhold\\nbetween\\n20\\nand\\n60\\ncompanies.\\n\\nThe Investment Manager emphasises a bottom-up stock selection process, seeking\\nattractive investments on an individual company basis. ', '23.1.4\\nA financial index is published in an appropriate manner if:\\n23.1.4.1\\nits publication process relies on sound procedures to collect\\nprices, and calculate and subsequently publish the index\\nvalue, including pricing procedures for components where a\\nmarket price is not available; and\\n23.1.4.2\\nmaterial information on matters such as index calculation,\\nrebalancing\\nmethodologies,\\nindex\\nchanges\\nor\\nany\\noperational difficulties in providing timely or accurate\\ninformation is provided on a wide and timely basis.\\n', '\\n\\n1\\n\\nProspectus of Morgan Stanley Funds (UK)\\nThis document constitutes the Prospectus for Morgan Stanley Funds (UK) (the ‘Company’)\\nwhich has been prepared in accordance with the Open-Ended Investment Companies\\nRegulations 2001 and the rules contained in the Collective Investment Schemes\\nSourcebook made by the Financial Conduct Authority in exercise of its powers under\\nSection 247 of the Financial Services and Markets Act 2000.\\n', 'Investment Strategy\\n\\nThe Fund’s investment objective will be pursued by investing primarily in a portfolio of\\nequity securities of established large-capitalisation companies. The portfolio may at times\\nbe concentrated, and will generally hold less than 50 holdings.\\n\\nThe investment process will emphasise a bottom-up stock selection process, seeking\\nattractive investments on an individual company basis. ']\n"
     ]
    }
   ],
   "source": [
    "p = Pipeline()\n",
    "p.add_node(component=retriever, name=\"retriever\", inputs=[\"Query\"])\n",
    "p.add_node(component=OpenAIFunctionCall(), name=\"OpenAIFunctionCall\", inputs=[\"retriever\"])\n",
    "res = p.run(query=\"introduction\")"
   ]
  },
  {
   "cell_type": "code",
   "execution_count": 25,
   "id": "dab918e3-90aa-4775-94ba-c454548e8f7f",
   "metadata": {},
   "outputs": [],
   "source": [
    "Product_reference_num = res['Product_reference_num']\n",
    "investment_objective = res['investment_objective']\n",
    "investment_strategy = res['investment_strategy']\n",
    "investment_policy = res['investment_policy']\n",
    "ESG = res['ESG']\n",
    "fund_name = res['fund_name']"
   ]
  },
  {
   "cell_type": "code",
   "execution_count": 8,
   "id": "ce98aa5c-30e6-4fbc-baf7-56dcd850e51a",
   "metadata": {},
   "outputs": [],
   "source": [
    "import pandas as pd\n",
    "\n",
    "def update_dataframe(prr, investment_objective, investment_strategy, investment_policy, ESG, fund_name):\n",
    "\n",
    "    # Define the columns\n",
    "    columns = ['Product_reference_num', 'fund_name', 'investment_objective', 'investment_strategy', 'investment_policy', 'ESG']\n",
    "    \n",
    "    # Create an empty DataFrame with the specified columns\n",
    "    df = pd.DataFrame(columns=columns)\n",
    "    \n",
    "    # Create a dictionary for the new record\n",
    "    new_record = {\n",
    "        'Product_reference_num': Product_reference_num,\n",
    "        'fund_name': fund_name,\n",
    "        'investment_objective': investment_objective,\n",
    "        'investment_strategy': investment_strategy,\n",
    "        'investment_policy': investment_policy,\n",
    "        'ESG': ESG\n",
    "    }\n",
    "\n",
    "    # Check if a record with the given prr already exists\n",
    "    if Product_reference_num in df['Product_reference_num'].values:\n",
    "        # Update the existing record\n",
    "        idx = df[df['Product_reference_num'] == Product_reference_num].index[0]\n",
    "        df.loc[idx] = new_record\n",
    "    else:\n",
    "        # Convert the new record to a DataFrame\n",
    "        new_df = pd.DataFrame([new_record])\n",
    "        # Concatenate the existing DataFrame with the new record\n",
    "        df = pd.concat([df, new_df], ignore_index=True)\n",
    "\n",
    "    return df"
   ]
  },
  {
   "cell_type": "code",
   "execution_count": 26,
   "id": "b4a37965-be21-48a6-8635-a9e51699ba9a",
   "metadata": {},
   "outputs": [
    {
     "data": {
      "text/html": [
       "<div>\n",
       "<style scoped>\n",
       "    .dataframe tbody tr th:only-of-type {\n",
       "        vertical-align: middle;\n",
       "    }\n",
       "\n",
       "    .dataframe tbody tr th {\n",
       "        vertical-align: top;\n",
       "    }\n",
       "\n",
       "    .dataframe thead th {\n",
       "        text-align: right;\n",
       "    }\n",
       "</style>\n",
       "<table border=\"1\" class=\"dataframe\">\n",
       "  <thead>\n",
       "    <tr style=\"text-align: right;\">\n",
       "      <th></th>\n",
       "      <th>Product_reference_num</th>\n",
       "      <th>fund_name</th>\n",
       "      <th>investment_objective</th>\n",
       "      <th>investment_strategy</th>\n",
       "      <th>investment_policy</th>\n",
       "      <th>ESG</th>\n",
       "    </tr>\n",
       "  </thead>\n",
       "  <tbody>\n",
       "    <tr>\n",
       "      <th>0</th>\n",
       "      <td>123456</td>\n",
       "      <td>Morgan Stanley Insight Fund</td>\n",
       "      <td>The Fund aims to grow your investment over t –...</td>\n",
       "      <td>The investment process emphasizes a bottom-up ...</td>\n",
       "      <td>The Fund primarily invests in a portfolio of e...</td>\n",
       "      <td>False</td>\n",
       "    </tr>\n",
       "  </tbody>\n",
       "</table>\n",
       "</div>"
      ],
      "text/plain": [
       "  Product_reference_num                    fund_name  \\\n",
       "0                123456  Morgan Stanley Insight Fund   \n",
       "\n",
       "                                investment_objective  \\\n",
       "0  The Fund aims to grow your investment over t –...   \n",
       "\n",
       "                                 investment_strategy  \\\n",
       "0  The investment process emphasizes a bottom-up ...   \n",
       "\n",
       "                                   investment_policy    ESG  \n",
       "0  The Fund primarily invests in a portfolio of e...  False  "
      ]
     },
     "execution_count": 26,
     "metadata": {},
     "output_type": "execute_result"
    }
   ],
   "source": [
    "df = update_dataframe(Product_reference_num, investment_objective, investment_strategy, investment_policy, ESG, fund_name)\n",
    "df"
   ]
  },
  {
   "cell_type": "code",
   "execution_count": null,
   "id": "50b5f7eb-ca48-4a75-917a-f1f00135b59e",
   "metadata": {},
   "outputs": [],
   "source": []
  }
 ],
 "metadata": {
  "kernelspec": {
   "display_name": "Python 3 (ipykernel)",
   "language": "python",
   "name": "python3"
  },
  "language_info": {
   "codemirror_mode": {
    "name": "ipython",
    "version": 3
   },
   "file_extension": ".py",
   "mimetype": "text/x-python",
   "name": "python",
   "nbconvert_exporter": "python",
   "pygments_lexer": "ipython3",
   "version": "3.9.17"
  }
 },
 "nbformat": 4,
 "nbformat_minor": 5
}
